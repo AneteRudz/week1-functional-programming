{
 "cells": [
  {
   "cell_type": "markdown",
   "metadata": {},
   "source": [
    "In the cell below, create a Python function that wraps your previous solution for the Bag of Words lab.\n",
    "\n",
    "Requirements:\n",
    "\n",
    "1. Your function should accept the following parameters:\n",
    "    * `docs` [REQUIRED] - array of document paths.\n",
    "    * `stop_words` [OPTIONAL] - array of stop words. The default value is an empty array.\n",
    "\n",
    "1. Your function should return a Python object that contains the following:\n",
    "    * `bag_of_words` - array of strings of normalized unique words in the corpus.\n",
    "    * `term_freq` - array of the term-frequency vectors."
   ]
  },
  {
   "cell_type": "code",
   "execution_count": 1,
   "metadata": {},
   "outputs": [
    {
     "ename": "IndentationError",
     "evalue": "expected an indented block (<ipython-input-1-18a8b265cd9d>, line 16)",
     "output_type": "error",
     "traceback": [
      "\u001b[0;36m  File \u001b[0;32m\"<ipython-input-1-18a8b265cd9d>\"\u001b[0;36m, line \u001b[0;32m16\u001b[0m\n\u001b[0;31m    \"\"\"\u001b[0m\n\u001b[0m       \n^\u001b[0m\n\u001b[0;31mIndentationError\u001b[0m\u001b[0;31m:\u001b[0m expected an indented block\n"
     ]
    }
   ],
   "source": [
    "# Import required libraries\n",
    "import os\n",
    "import re\n",
    "\n",
    "# Define function\n",
    "def get_bow_from_docs(docs, stop_words=[]):\n",
    "    \n",
    "    \n",
    "# In the function, first define the variables you will use such as `corpus`, `bag_of_words`, and `term_freq`.\n",
    "    \n",
    "    \n",
    "    \n",
    "\"\"\"\n",
    "Loop `docs` and read the content of each doc into a string in `corpus`.\n",
    "Remember to convert the doc content to lowercases and remove punctuation.\n",
    "\"\"\"\n",
    "\n",
    "    \n",
    "    \n",
    "\"\"\"\n",
    "Loop `corpus`. Append the terms in each doc into the `bag_of_words` array. The terms in `bag_of_words` \n",
    "should be unique which means before adding each term you need to check if it's already added to the array.\n",
    "In addition, check if each term is in the `stop_words` array. Only append the term to `bag_of_words`\n",
    "if it is not a stop word.\n",
    "\"\"\"\n",
    "\n",
    "    \n",
    "    \n",
    "\"\"\"\n",
    "Loop `corpus` again. For each doc string, count the number of occurrences of each term in `bag_of_words`. \n",
    "Create an array for each doc's term frequency and append it to `term_freq`.\n",
    "\"\"\"\n",
    "\n",
    "    \n",
    "    \n",
    "# Now return your output as an object\n",
    "#return {\n",
    "    #\"bag_of_words\": bag_of_words,\n",
    "    #\"term_freq\": term_freq\n",
    "    #}\n",
    "    \n",
    "    "
   ]
  },
  {
   "cell_type": "code",
   "execution_count": 2,
   "metadata": {},
   "outputs": [],
   "source": [
    "import os\n",
    "import re"
   ]
  },
  {
   "cell_type": "code",
   "execution_count": 3,
   "metadata": {},
   "outputs": [
    {
     "data": {
      "text/plain": [
       "'/Users/loukj.lenssen/Desktop/Lab Work/Anete/week1-functional-programming/your-code'"
      ]
     },
     "execution_count": 3,
     "metadata": {},
     "output_type": "execute_result"
    }
   ],
   "source": [
    "'''\n",
    "L.S. Make sure to include all files in the directory, because now the code does not work. \n",
    "'''\n",
    "\n",
    "os.getcwd()"
   ]
  },
  {
   "cell_type": "markdown",
   "metadata": {},
   "source": [
    "Test your function without stop words. You should see the output like below:\n",
    "\n",
    "```{'bag_of_words': ['ironhack', 'is', 'cool', 'i', 'love', 'am', 'a', 'student', 'at'], 'term_freq': [[1, 1, 1, 0, 0, 0, 0, 0, 0], [1, 0, 0, 1, 1, 0, 0, 0, 0], [1, 0, 0, 1, 0, 1, 1, 1, 1]]}```"
   ]
  },
  {
   "cell_type": "code",
   "execution_count": 4,
   "metadata": {},
   "outputs": [
    {
     "name": "stdout",
     "output_type": "stream",
     "text": [
      "/Users/loukj.lenssen/Desktop/Lab Work/Anete/week1-functional-programming/your-code\n",
      "[]\n",
      "{'bag_of_words': [], 'term_freq': []}\n"
     ]
    }
   ],
   "source": [
    "\n",
    "documents = print(os.getcwd())\n",
    "doc_list = [f for f in os.listdir(documents) if f.endswith('.txt')]\n",
    "#print(doc_list)\n",
    "\n",
    "'''\n",
    "L.S. Looks good, but I cannot check it. \n",
    "'''\n",
    "\n",
    "file_list = []\n",
    "\n",
    "for doc in doc_list:\n",
    "    full_path = os.path.join(os.getcwd(),doc)\n",
    "    file_list.append(full_path)\n",
    "    \n",
    "print(file_list)\n",
    "\n",
    "def get_bow_from_docs(docs, stop_words=[]):\n",
    "    \n",
    "    \n",
    "    corpus = []\n",
    "    corpus2 = []\n",
    "    bag_of_words = []\n",
    "    term_freq = []\n",
    "    \n",
    "    files = [f for f in os.listdir() if f.endswith('.txt')]\n",
    "\n",
    "    \n",
    "    for f in files:\n",
    "        with open(f,'r') as file:\n",
    "            lines = file.read()\n",
    "            corpus.append(lines)\n",
    "            \n",
    "    # corpus2 - lowercase and without special characters \n",
    "    for i in corpus:\n",
    "        x = i.lower()\n",
    "        y = x.rstrip('.')\n",
    "        corpus2.append(y)\n",
    "        \n",
    "    # bag_of_words\n",
    "    for term in corpus2:\n",
    "        words = re.findall('[a-z]+',term)\n",
    "        for i in words:\n",
    "            if i not in bag_of_words and i not in stop_words:\n",
    "                bag_of_words.append(i)\n",
    "    \n",
    "    # term_freq\n",
    "    for i in corpus2:\n",
    "        words = re.findall('[a-z]+', i)\n",
    "        sub_list = []\n",
    "        #print(words)\n",
    "        for term in bag_of_words:\n",
    "            if term in words:\n",
    "                sub_list.append(1)\n",
    "            else:\n",
    "                sub_list.append(0)\n",
    "        term_freq.append(sub_list)\n",
    "        \n",
    "    return {\n",
    "    \"bag_of_words\": bag_of_words,\n",
    "    \"term_freq\": term_freq\n",
    "    }\n",
    "\n",
    "print(get_bow_from_docs(file_list))\n",
    "\n",
    "\n",
    "    \n",
    "\n",
    "         "
   ]
  },
  {
   "cell_type": "code",
   "execution_count": 5,
   "metadata": {},
   "outputs": [
    {
     "name": "stdout",
     "output_type": "stream",
     "text": [
      "['/Users/loukj.lenssen/Desktop/Lab Work/Anete/week1-functional-programming/your-code/doc1.txt', '/Users/loukj.lenssen/Desktop/Lab Work/Anete/week1-functional-programming/your-code/doc2.txt', '/Users/loukj.lenssen/Desktop/Lab Work/Anete/week1-functional-programming/your-code/doc3.txt']\n",
      "{'bag_of_words': [], 'term_freq': []}\n"
     ]
    }
   ],
   "source": [
    "# Define doc paths array\n",
    "\n",
    "doc_list = ['doc1.txt', 'doc2.txt', 'doc3.txt']\n",
    "\n",
    "file_list = []\n",
    "\n",
    "for doc in doc_list:\n",
    "    full_path = os.path.join(os.getcwd(),doc)\n",
    "    file_list.append(full_path)\n",
    "    \n",
    "print(file_list)\n",
    "\n",
    "\n",
    "# Obtain BoW from your function\n",
    "bow = get_bow_from_docs(file_list)\n",
    "\n",
    "\n",
    "# Print BoW\n",
    "print(bow)"
   ]
  },
  {
   "cell_type": "markdown",
   "metadata": {},
   "source": [
    "If your attempt above is successful, nice work done!\n",
    "\n",
    "Now test your function again with the stop words. In the previous lab we defined the stop words in a large array. In this lab, we'll import the stop words from Scikit-Learn."
   ]
  },
  {
   "cell_type": "code",
   "execution_count": 6,
   "metadata": {},
   "outputs": [
    {
     "name": "stdout",
     "output_type": "stream",
     "text": [
      "frozenset({'up', 'these', 'side', 'sometime', 'ourselves', 'yourselves', 'couldnt', 'off', 'done', 'though', 'where', 'who', 'some', 'is', 'would', 'being', 'against', 'onto', 'will', 'at', 'everywhere', 'forty', 'us', 'someone', 'hereafter', 'rather', 'whereas', 'cry', 'about', 'over', 'should', 'toward', 'was', 'i', 'too', 'eg', 'now', 'sometimes', 'by', 'both', 'me', 'amongst', 'her', 'interest', 'own', 'twelve', 'why', 'few', 'himself', 'thereupon', 'to', 'around', 'which', 'through', 'whoever', 'ours', 'take', 'have', 'everything', 'hence', 'my', 'put', 'whenever', 'them', 'thus', 'eleven', 'go', 'how', 'anyway', 'anything', 'part', 'since', 'his', 'after', 'no', 'inc', 'via', 'serious', 'somewhere', 'most', 'down', 'even', 'but', 'below', 'however', 'name', 'hasnt', 'had', 'nowhere', 'our', 'yours', 'along', 'before', 'same', 'former', 'became', 'namely', 'others', 'only', 'already', 'beyond', 'full', 'next', 'everyone', 'moreover', 'fire', 'neither', 'become', 'empty', 'hereby', 'find', 'herself', 'much', 'thereby', 'do', 'than', 'thence', 'indeed', 'well', 'were', 'very', 'your', 'hers', 'show', 'whose', 'else', 'back', 'mostly', 'towards', 'may', 'often', 'somehow', 'he', 'de', 'detail', 'meanwhile', 'last', 'out', 'one', 'four', 'please', 'so', 'two', 'for', 'whereupon', 'we', 'once', 'the', 'they', 'beside', 'without', 'not', 'behind', 'above', 'call', 'alone', 'seems', 'amount', 'fifteen', 'beforehand', 'therefore', 'becomes', 'something', 'as', 'there', 'fill', 'six', 'into', 'still', 'if', 'con', 'almost', 'except', 'front', 'nor', 'upon', 'elsewhere', 'enough', 'made', 'nine', 'in', 'itself', 'that', 'cannot', 'of', 'hereupon', 'describe', 'latterly', 'another', 'ltd', 'never', 'across', 'thereafter', 'perhaps', 'a', 'seeming', 'give', 'has', 'nothing', 'within', 'further', 'wherever', 'whole', 'twenty', 'again', 'see', 'etc', 'move', 'under', 'it', 'although', 'be', 'thru', 'cant', 'every', 'here', 'herein', 'many', 'afterwards', 'nevertheless', 'more', 'during', 'noone', 'together', 'yourself', 'among', 'must', 'can', 'been', 'per', 'when', 'or', 'amoungst', 'whence', 'him', 'none', 'fifty', 'five', 'thick', 'therein', 'wherein', 'whether', 'bottom', 'get', 'third', 'whereafter', 'whom', 'an', 'myself', 'first', 'other', 'each', 'are', 'seemed', 'bill', 'several', 'such', 'what', 'whereby', 'and', 'am', 'co', 'otherwise', 'mine', 'could', 'any', 'their', 'less', 'might', 'until', 'due', 'ie', 'whither', 'those', 'latter', 'formerly', 'also', 'either', 'whatever', 'from', 'with', 'found', 'on', 'ten', 'themselves', 'anywhere', 'becoming', 'keep', 'thin', 'anyone', 're', 'you', 'she', 'yet', 'this', 'least', 'because', 'system', 'all', 'between', 'seem', 'its', 'top', 'while', 'besides', 'ever', 'eight', 'hundred', 'nobody', 'then', 'three', 'always', 'anyhow', 'sixty', 'un', 'throughout', 'sincere', 'mill'})\n"
     ]
    }
   ],
   "source": [
    "'''\n",
    "L.S. Correct!\n",
    "'''\n",
    "\n",
    "from sklearn.feature_extraction import stop_words\n",
    "print(stop_words.ENGLISH_STOP_WORDS)\n"
   ]
  },
  {
   "cell_type": "markdown",
   "metadata": {},
   "source": [
    "You should have seen a large list of words that looks like:\n",
    "\n",
    "```frozenset({'across', 'mine', 'cannot', ...})```\n",
    "\n",
    "`frozenset` is a type of Python object that is immutable. In this lab you can use it just like an array without conversion."
   ]
  },
  {
   "cell_type": "markdown",
   "metadata": {},
   "source": [
    "Next, test your function with supplying `stop_words.ENGLISH_STOP_WORDS` as the second parameter."
   ]
  },
  {
   "cell_type": "code",
   "execution_count": 7,
   "metadata": {},
   "outputs": [
    {
     "name": "stdout",
     "output_type": "stream",
     "text": [
      "{'bag_of_words': [], 'term_freq': []}\n"
     ]
    }
   ],
   "source": [
    "bow = get_bow_from_docs(bow, stop_words.ENGLISH_STOP_WORDS)\n",
    "\n",
    "print(bow)"
   ]
  },
  {
   "cell_type": "markdown",
   "metadata": {},
   "source": [
    "You should have seen:\n",
    "\n",
    "```{'bag_of_words': ['ironhack', 'cool', 'love', 'student'], 'term_freq': [[1, 1, 0, 0], [1, 0, 1, 0], [1, 0, 0, 1]]}```"
   ]
  },
  {
   "cell_type": "code",
   "execution_count": null,
   "metadata": {},
   "outputs": [],
   "source": []
  }
 ],
 "metadata": {
  "kernelspec": {
   "display_name": "Python 3",
   "language": "python",
   "name": "python3"
  }
 },
 "nbformat": 4,
 "nbformat_minor": 2
}
