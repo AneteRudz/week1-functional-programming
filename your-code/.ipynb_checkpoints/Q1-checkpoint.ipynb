{
 "cells": [
  {
   "cell_type": "markdown",
   "metadata": {},
   "source": [
    "In the cell below, create a Python function that wraps your previous solution for the Bag of Words lab.\n",
    "\n",
    "Requirements:\n",
    "\n",
    "1. Your function should accept the following parameters:\n",
    "    * `docs` [REQUIRED] - array of document paths.\n",
    "    * `stop_words` [OPTIONAL] - array of stop words. The default value is an empty array.\n",
    "\n",
    "1. Your function should return a Python object that contains the following:\n",
    "    * `bag_of_words` - array of strings of normalized unique words in the corpus.\n",
    "    * `term_freq` - array of the term-frequency vectors."
   ]
  },
  {
   "cell_type": "code",
   "execution_count": 5,
   "metadata": {},
   "outputs": [
    {
     "ename": "IndentationError",
     "evalue": "expected an indented block (<ipython-input-5-18a8b265cd9d>, line 16)",
     "output_type": "error",
     "traceback": [
      "\u001b[1;36m  File \u001b[1;32m\"<ipython-input-5-18a8b265cd9d>\"\u001b[1;36m, line \u001b[1;32m16\u001b[0m\n\u001b[1;33m    \"\"\"\u001b[0m\n\u001b[1;37m       \n^\u001b[0m\n\u001b[1;31mIndentationError\u001b[0m\u001b[1;31m:\u001b[0m expected an indented block\n"
     ]
    }
   ],
   "source": [
    "# Import required libraries\n",
    "import os\n",
    "import re\n",
    "\n",
    "# Define function\n",
    "def get_bow_from_docs(docs, stop_words=[]):\n",
    "    \n",
    "    \n",
    "# In the function, first define the variables you will use such as `corpus`, `bag_of_words`, and `term_freq`.\n",
    "    \n",
    "    \n",
    "    \n",
    "\"\"\"\n",
    "Loop `docs` and read the content of each doc into a string in `corpus`.\n",
    "Remember to convert the doc content to lowercases and remove punctuation.\n",
    "\"\"\"\n",
    "\n",
    "    \n",
    "    \n",
    "\"\"\"\n",
    "Loop `corpus`. Append the terms in each doc into the `bag_of_words` array. The terms in `bag_of_words` \n",
    "should be unique which means before adding each term you need to check if it's already added to the array.\n",
    "In addition, check if each term is in the `stop_words` array. Only append the term to `bag_of_words`\n",
    "if it is not a stop word.\n",
    "\"\"\"\n",
    "\n",
    "    \n",
    "    \n",
    "\"\"\"\n",
    "Loop `corpus` again. For each doc string, count the number of occurrences of each term in `bag_of_words`. \n",
    "Create an array for each doc's term frequency and append it to `term_freq`.\n",
    "\"\"\"\n",
    "\n",
    "    \n",
    "    \n",
    "# Now return your output as an object\n",
    "#return {\n",
    "    #\"bag_of_words\": bag_of_words,\n",
    "    #\"term_freq\": term_freq\n",
    "    #}\n",
    "    \n",
    "    "
   ]
  },
  {
   "cell_type": "code",
   "execution_count": 9,
   "metadata": {},
   "outputs": [],
   "source": [
    "import os\n",
    "import re"
   ]
  },
  {
   "cell_type": "code",
   "execution_count": 16,
   "metadata": {},
   "outputs": [
    {
     "data": {
      "text/plain": [
       "'C:\\\\Users\\\\anete\\\\Desktop\\\\Data_labs\\\\data-labs\\\\module-1\\\\lab-string-operations\\\\your-code'"
      ]
     },
     "execution_count": 16,
     "metadata": {},
     "output_type": "execute_result"
    }
   ],
   "source": [
    "os.getcwd()"
   ]
  },
  {
   "cell_type": "markdown",
   "metadata": {},
   "source": [
    "Test your function without stop words. You should see the output like below:\n",
    "\n",
    "```{'bag_of_words': ['ironhack', 'is', 'cool', 'i', 'love', 'am', 'a', 'student', 'at'], 'term_freq': [[1, 1, 1, 0, 0, 0, 0, 0, 0], [1, 0, 0, 1, 1, 0, 0, 0, 0], [1, 0, 0, 1, 0, 1, 1, 1, 1]]}```"
   ]
  },
  {
   "cell_type": "code",
   "execution_count": 17,
   "metadata": {},
   "outputs": [
    {
     "name": "stdout",
     "output_type": "stream",
     "text": [
      "C:\\Users\\anete\\Desktop\\Data_labs\\data-labs\\module-1\\lab-string-operations\\your-code\n",
      "['C:\\\\Users\\\\anete\\\\Desktop\\\\Data_labs\\\\data-labs\\\\module-1\\\\lab-string-operations\\\\your-code\\\\doc1.txt', 'C:\\\\Users\\\\anete\\\\Desktop\\\\Data_labs\\\\data-labs\\\\module-1\\\\lab-string-operations\\\\your-code\\\\doc2.txt', 'C:\\\\Users\\\\anete\\\\Desktop\\\\Data_labs\\\\data-labs\\\\module-1\\\\lab-string-operations\\\\your-code\\\\doc3.txt']\n",
      "{'bag_of_words': ['ironhack', 'is', 'cool', 'i', 'love', 'am', 'a', 'student', 'at'], 'term_freq': [[1, 1, 1, 0, 0, 0, 0, 0, 0], [1, 0, 0, 1, 1, 0, 0, 0, 0], [1, 0, 0, 1, 0, 1, 1, 1, 1]]}\n"
     ]
    }
   ],
   "source": [
    "\n",
    "documents = print(os.getcwd())\n",
    "doc_list = [f for f in os.listdir(documents) if f.endswith('.txt')]\n",
    "#print(doc_list)\n",
    "\n",
    "file_list = []\n",
    "\n",
    "for doc in doc_list:\n",
    "    full_path = os.path.join(os.getcwd(),doc)\n",
    "    file_list.append(full_path)\n",
    "    \n",
    "print(file_list)\n",
    "\n",
    "def get_bow_from_docs(docs, stop_words=[]):\n",
    "    \n",
    "    \n",
    "    corpus = []\n",
    "    corpus2 = []\n",
    "    bag_of_words = []\n",
    "    term_freq = []\n",
    "    \n",
    "    files = [f for f in os.listdir() if f.endswith('.txt')]\n",
    "\n",
    "    \n",
    "    for f in files:\n",
    "        with open(f,'r') as file:\n",
    "            lines = file.read()\n",
    "            corpus.append(lines)\n",
    "            \n",
    "    # corpus2 - lowercase and without special characters \n",
    "    for i in corpus:\n",
    "        x = i.lower()\n",
    "        y = x.rstrip('.')\n",
    "        corpus2.append(y)\n",
    "        \n",
    "    # bag_of_words\n",
    "    for term in corpus2:\n",
    "        words = re.findall('[a-z]+',term)\n",
    "        for i in words:\n",
    "            if i not in bag_of_words and i not in stop_words:\n",
    "                bag_of_words.append(i)\n",
    "    \n",
    "    # term_freq\n",
    "    for i in corpus2:\n",
    "        words = re.findall('[a-z]+', i)\n",
    "        sub_list = []\n",
    "        #print(words)\n",
    "        for term in bag_of_words:\n",
    "            if term in words:\n",
    "                sub_list.append(1)\n",
    "            else:\n",
    "                sub_list.append(0)\n",
    "        term_freq.append(sub_list)\n",
    "        \n",
    "    return {\n",
    "    \"bag_of_words\": bag_of_words,\n",
    "    \"term_freq\": term_freq\n",
    "    }\n",
    "\n",
    "print(get_bow_from_docs(file_list))\n",
    "\n",
    "\n",
    "    \n",
    "\n",
    "         "
   ]
  },
  {
   "cell_type": "code",
   "execution_count": 20,
   "metadata": {},
   "outputs": [
    {
     "name": "stdout",
     "output_type": "stream",
     "text": [
      "['C:\\\\Users\\\\anete\\\\Desktop\\\\Data_labs\\\\data-labs\\\\module-1\\\\lab-string-operations\\\\your-code\\\\doc1.txt', 'C:\\\\Users\\\\anete\\\\Desktop\\\\Data_labs\\\\data-labs\\\\module-1\\\\lab-string-operations\\\\your-code\\\\doc2.txt', 'C:\\\\Users\\\\anete\\\\Desktop\\\\Data_labs\\\\data-labs\\\\module-1\\\\lab-string-operations\\\\your-code\\\\doc3.txt']\n",
      "{'bag_of_words': ['ironhack', 'is', 'cool', 'i', 'love', 'am', 'a', 'student', 'at'], 'term_freq': [[1, 1, 1, 0, 0, 0, 0, 0, 0], [1, 0, 0, 1, 1, 0, 0, 0, 0], [1, 0, 0, 1, 0, 1, 1, 1, 1]]}\n"
     ]
    }
   ],
   "source": [
    "# Define doc paths array\n",
    "\n",
    "doc_list = ['doc1.txt', 'doc2.txt', 'doc3.txt']\n",
    "\n",
    "file_list = []\n",
    "\n",
    "for doc in doc_list:\n",
    "    full_path = os.path.join(os.getcwd(),doc)\n",
    "    file_list.append(full_path)\n",
    "    \n",
    "print(file_list)\n",
    "\n",
    "\n",
    "# Obtain BoW from your function\n",
    "bow = get_bow_from_docs(file_list)\n",
    "\n",
    "\n",
    "# Print BoW\n",
    "print(bow)"
   ]
  },
  {
   "cell_type": "markdown",
   "metadata": {},
   "source": [
    "If your attempt above is successful, nice work done!\n",
    "\n",
    "Now test your function again with the stop words. In the previous lab we defined the stop words in a large array. In this lab, we'll import the stop words from Scikit-Learn."
   ]
  },
  {
   "cell_type": "code",
   "execution_count": 63,
   "metadata": {},
   "outputs": [
    {
     "name": "stdout",
     "output_type": "stream",
     "text": [
      "frozenset({'someone', 'so', 'noone', 'meanwhile', 'together', 'there', 'mostly', 'elsewhere', 'con', 'became', 'across', 'after', 'anyhow', 'get', 'becoming', 'nowhere', 'whereafter', 'whose', 'their', 'he', 'fill', 'mine', 'no', 'more', 'whether', 'eg', 'because', 'once', 'in', 'which', 'bottom', 'hasnt', 'done', 'alone', 'would', 'again', 'everything', 'sixty', 'to', 'first', 'where', 'three', 'is', 'not', 'herself', 'ever', 'nobody', 'move', 'it', 'what', 're', 'whence', 'next', 'before', 'sometimes', 'we', 'should', 'whoever', 'somehow', 'eleven', 'yourselves', 'here', 'perhaps', 'indeed', 'eight', 'others', 'nine', 'almost', 'while', 'un', 'side', 'whereby', 'i', 'made', 'us', 'within', 'thereby', 'already', 'much', 'well', 'two', 'when', 'upon', 'couldnt', 'between', 'by', 'over', 'via', 'of', 'up', 'latter', 'latterly', 'four', 'all', 'enough', 'herein', 'ltd', 'whom', 'against', 'below', 'some', 'full', 'system', 'its', 'for', 'very', 'anyway', 'same', 'several', 'bill', 'beforehand', 'off', 'without', 'ours', 'under', 'whereas', 'otherwise', 'itself', 'am', 'yours', 'formerly', 'third', 'though', 'inc', 'the', 'give', 'former', 'if', 'keep', 'do', 'anyone', 'since', 'may', 'thereafter', 'towards', 'something', 'less', 'have', 'she', 'please', 'behind', 'least', 'hereby', 'that', 'will', 'into', 'were', 'must', 'forty', 'cry', 'wherein', 'twelve', 'due', 'call', 'cant', 'but', 'thick', 'everyone', 'hundred', 'ie', 'put', 'another', 'our', 'this', 'take', 'else', 'co', 'nothing', 'interest', 'was', 'twenty', 'how', 'then', 'anywhere', 'from', 'you', 'see', 'wherever', 'seeming', 'onto', 'one', 'seem', 'anything', 'none', 'too', 'further', 'on', 'each', 'at', 'beside', 'never', 'sincere', 'everywhere', 'many', 'along', 'rather', 'an', 'last', 'himself', 'every', 'top', 'themselves', 'his', 'about', 'except', 'thus', 'ten', 'whenever', 'them', 'somewhere', 'seemed', 'nevertheless', 'are', 'empty', 'him', 'fifty', 'such', 'still', 'part', 'any', 'above', 'my', 'around', 'other', 'cannot', 'myself', 'always', 'who', 'whither', 'neither', 'therein', 'being', 'toward', 'hereupon', 'has', 'thence', 'per', 'with', 'beyond', 'name', 'back', 'only', 'mill', 'fire', 'whereupon', 'often', 'ourselves', 'whatever', 'few', 'yet', 'become', 'namely', 'de', 'although', 'afterwards', 'could', 'even', 'among', 'both', 'amoungst', 'find', 'becomes', 'besides', 'front', 'might', 'five', 'these', 'amount', 'and', 'nor', 'fifteen', 'hence', 'until', 'had', 'most', 'show', 'can', 'your', 'down', 'her', 'hers', 'amongst', 'six', 'why', 'thin', 'during', 'thereupon', 'serious', 'describe', 'or', 'moreover', 'either', 'hereafter', 'now', 'thru', 'be', 'than', 'own', 'etc', 'seems', 'those', 'whole', 'me', 'as', 'a', 'throughout', 'however', 'they', 'been', 'detail', 'also', 'through', 'out', 'yourself', 'therefore', 'found', 'go', 'sometime'})\n"
     ]
    }
   ],
   "source": [
    "from sklearn.feature_extraction import stop_words\n",
    "print(stop_words.ENGLISH_STOP_WORDS)\n"
   ]
  },
  {
   "cell_type": "markdown",
   "metadata": {},
   "source": [
    "You should have seen a large list of words that looks like:\n",
    "\n",
    "```frozenset({'across', 'mine', 'cannot', ...})```\n",
    "\n",
    "`frozenset` is a type of Python object that is immutable. In this lab you can use it just like an array without conversion."
   ]
  },
  {
   "cell_type": "markdown",
   "metadata": {},
   "source": [
    "Next, test your function with supplying `stop_words.ENGLISH_STOP_WORDS` as the second parameter."
   ]
  },
  {
   "cell_type": "code",
   "execution_count": 64,
   "metadata": {},
   "outputs": [
    {
     "name": "stdout",
     "output_type": "stream",
     "text": [
      "{'bag_of_words': ['student', 'ironhack'], 'term_freq': [[0, 1], [0, 1], [1, 1]]}\n"
     ]
    }
   ],
   "source": [
    "bow = get_bow_from_docs(bow, stop_words.ENGLISH_STOP_WORDS)\n",
    "\n",
    "print(bow)"
   ]
  },
  {
   "cell_type": "markdown",
   "metadata": {},
   "source": [
    "You should have seen:\n",
    "\n",
    "```{'bag_of_words': ['ironhack', 'cool', 'love', 'student'], 'term_freq': [[1, 1, 0, 0], [1, 0, 1, 0], [1, 0, 0, 1]]}```"
   ]
  },
  {
   "cell_type": "code",
   "execution_count": null,
   "metadata": {},
   "outputs": [],
   "source": []
  }
 ],
 "metadata": {
  "kernelspec": {
   "display_name": "Python 3",
   "language": "python",
   "name": "python3"
  },
  "language_info": {
   "codemirror_mode": {
    "name": "ipython",
    "version": 3
   },
   "file_extension": ".py",
   "mimetype": "text/x-python",
   "name": "python",
   "nbconvert_exporter": "python",
   "pygments_lexer": "ipython3",
   "version": "3.7.3"
  }
 },
 "nbformat": 4,
 "nbformat_minor": 2
}
